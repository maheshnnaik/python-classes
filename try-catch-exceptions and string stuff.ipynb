{
 "cells": [
  {
   "cell_type": "code",
   "execution_count": 4,
   "metadata": {},
   "outputs": [
    {
     "name": "stdout",
     "output_type": "stream",
     "text": [
      "Exception occured\n"
     ]
    }
   ],
   "source": [
    "a = 5\n",
    "b = 0\n",
    "try:\n",
    "    a / b\n",
    "except ZeroDivisionError:\n",
    "    print(\"Exception occured\")\n"
   ]
  },
  {
   "cell_type": "code",
   "execution_count": 9,
   "metadata": {},
   "outputs": [
    {
     "name": "stdout",
     "output_type": "stream",
     "text": [
      "Enter the value for n:4\n"
     ]
    },
    {
     "data": {
      "text/plain": [
       "10"
      ]
     },
     "execution_count": 9,
     "metadata": {},
     "output_type": "execute_result"
    }
   ],
   "source": [
    "n = int(input(\"Enter the value for n:\"))\n",
    "sum_of_n = int((n * (n + 1)) / 2)\n",
    "sum_of_n"
   ]
  },
  {
   "cell_type": "code",
   "execution_count": 13,
   "metadata": {},
   "outputs": [
    {
     "name": "stdout",
     "output_type": "stream",
     "text": [
      "Enter the value for x:5\n",
      "15\n"
     ]
    }
   ],
   "source": [
    "x = int(input(\"Enter the value for x:\"))\n",
    "s = 0\n",
    "for i in range(n + 1):\n",
    "    s = s + i\n",
    "print(s)"
   ]
  },
  {
   "cell_type": "code",
   "execution_count": 14,
   "metadata": {},
   "outputs": [
    {
     "name": "stdout",
     "output_type": "stream",
     "text": [
      "Enter the value for n:5\n",
      "15\n"
     ]
    }
   ],
   "source": [
    "n = int(input(\"Enter the value for n:\"))\n",
    "sum_of_n = 0\n",
    "i = 1\n",
    "while i <= n:\n",
    "    sum_of_n = sum_of_n + i\n",
    "    i += 1\n",
    "print(sum_of_n)"
   ]
  },
  {
   "cell_type": "code",
   "execution_count": 17,
   "metadata": {},
   "outputs": [
    {
     "name": "stdout",
     "output_type": "stream",
     "text": [
      "Enter x:5\n",
      "Enter y:6\n",
      "Enter z:4\n",
      "6\n"
     ]
    }
   ],
   "source": [
    "x = int(input(\"Enter x:\"))\n",
    "y = int(input(\"Enter y:\"))\n",
    "z = int(input(\"Enter z:\"))\n",
    "max_val = x if x > y and x > z else y if y > x and y > z else z  \n",
    "print(max_val)"
   ]
  },
  {
   "cell_type": "code",
   "execution_count": 25,
   "metadata": {},
   "outputs": [
    {
     "name": "stdout",
     "output_type": "stream",
     "text": [
      "Enter the value for n:5\n",
      "0\n",
      "1\n",
      "1\t\n",
      "2\t\n",
      "3\t\n",
      "5\t\n",
      "8\t\n",
      "13\t\n"
     ]
    }
   ],
   "source": [
    "f1 = 0\n",
    "f2 = 1\n",
    "n = int(input(\"Enter the value for n:\"))\n",
    "print(str(f1) + \"\\n\" + str(f2))\n",
    "for i in range(n + 1):\n",
    "    f3 = f1 + f2\n",
    "    print(str(f3) + \"\\t\")\n",
    "    f1 = f2\n",
    "    f2 = f3\n",
    "    \n",
    "    "
   ]
  },
  {
   "cell_type": "code",
   "execution_count": 28,
   "metadata": {},
   "outputs": [
    {
     "name": "stdout",
     "output_type": "stream",
     "text": [
      "Enter a character:r\n",
      "Consonant\n",
      "Enter a string:Hiii Mahesh!\n",
      "['i', 'i', 'i', 'a', 'e']\n"
     ]
    }
   ],
   "source": [
    "vowels = ['a', 'e', 'i', 'o', 'u']\n",
    "ch = input(\"Enter a character:\")\n",
    "if ch in vowels:\n",
    "    print(\"Vowels\")\n",
    "else:\n",
    "    print(\"Consonant\")\n",
    "s = input(\"Enter a string:\")\n",
    "l = [a for a in s if a in vowels]\n",
    "print(l)\n"
   ]
  }
 ],
 "metadata": {
  "kernelspec": {
   "display_name": "Python 3",
   "language": "python",
   "name": "python3"
  },
  "language_info": {
   "codemirror_mode": {
    "name": "ipython",
    "version": 3
   },
   "file_extension": ".py",
   "mimetype": "text/x-python",
   "name": "python",
   "nbconvert_exporter": "python",
   "pygments_lexer": "ipython3",
   "version": "3.6.7"
  }
 },
 "nbformat": 4,
 "nbformat_minor": 2
}

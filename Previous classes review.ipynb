{
 "cells": [
  {
   "cell_type": "markdown",
   "metadata": {},
   "source": [
    "# Datatypes"
   ]
  },
  {
   "cell_type": "markdown",
   "metadata": {},
   "source": [
    "## Simple datatypes"
   ]
  },
  {
   "cell_type": "code",
   "execution_count": 2,
   "metadata": {},
   "outputs": [],
   "source": [
    "a = int()\n",
    "b = ''\n",
    "c = float()\n"
   ]
  },
  {
   "cell_type": "markdown",
   "metadata": {},
   "source": [
    "## Complex datatypes"
   ]
  },
  {
   "cell_type": "code",
   "execution_count": 3,
   "metadata": {},
   "outputs": [],
   "source": [
    "d = list()\n",
    "# d = []\n",
    "e = tuple()\n",
    "# e = ()\n",
    "f = dict()\n",
    "# f = {}\n",
    "g = set()"
   ]
  },
  {
   "cell_type": "markdown",
   "metadata": {},
   "source": [
    "Make use of the cell below to check the type any of the variables created here."
   ]
  },
  {
   "cell_type": "code",
   "execution_count": 4,
   "metadata": {},
   "outputs": [
    {
     "data": {
      "text/plain": [
       "int"
      ]
     },
     "execution_count": 4,
     "metadata": {},
     "output_type": "execute_result"
    }
   ],
   "source": [
    "type(a)"
   ]
  },
  {
   "cell_type": "code",
   "execution_count": 6,
   "metadata": {},
   "outputs": [],
   "source": [
    "x = 2\n",
    "y = int(2.8)\n",
    "print(x)\n",
    "print(y)"
   ]
  },
  {
   "cell_type": "code",
   "execution_count": 9,
   "metadata": {},
   "outputs": [
    {
     "name": "stdout",
     "output_type": "stream",
     "text": [
      "Enter your name: Shamanth\n",
      "Hello Shamanth\n"
     ]
    }
   ],
   "source": [
    "name = input(\"Enter your name: \")\n",
    "print(\"Hello \" + name)"
   ]
  },
  {
   "cell_type": "markdown",
   "metadata": {},
   "source": [
    "## Identity Operator"
   ]
  },
  {
   "cell_type": "code",
   "execution_count": 11,
   "metadata": {},
   "outputs": [
    {
     "name": "stdout",
     "output_type": "stream",
     "text": [
      "True\n",
      "False\n"
     ]
    }
   ],
   "source": [
    "print(x is y)\n",
    "print(x is not y)"
   ]
  },
  {
   "cell_type": "markdown",
   "metadata": {},
   "source": [
    "```is``` and ``` is not ``` check for <b>value</b> and not <b> type"
   ]
  },
  {
   "cell_type": "code",
   "execution_count": 14,
   "metadata": {},
   "outputs": [
    {
     "name": "stdout",
     "output_type": "stream",
     "text": [
      "False\n",
      "True\n"
     ]
    }
   ],
   "source": [
    "x = 5\n",
    "y = 9\n",
    "print(x is y)\n",
    "print(x is not y)"
   ]
  },
  {
   "cell_type": "code",
   "execution_count": 16,
   "metadata": {},
   "outputs": [
    {
     "name": "stdout",
     "output_type": "stream",
     "text": [
      "5 9\n"
     ]
    }
   ],
   "source": [
    "x, y = 5, 9\n",
    "print(x, y)\n"
   ]
  },
  {
   "cell_type": "markdown",
   "metadata": {},
   "source": [
    "# Lists"
   ]
  },
  {
   "cell_type": "markdown",
   "metadata": {},
   "source": [
    "## Basics of lists"
   ]
  },
  {
   "cell_type": "code",
   "execution_count": 17,
   "metadata": {},
   "outputs": [
    {
     "name": "stdout",
     "output_type": "stream",
     "text": [
      "['abc', 786, 'John', 10.2]\n",
      "abc\n",
      "[786, 'John']\n",
      "['John', 10.2]\n",
      "[10.2]\n",
      "['abc', 786, 'John']\n",
      "['abc', 786, 'John', 10.2, 'abc', 786, 'John', 10.2]\n",
      "['abc', 786, 'John', 10.2, 123, 'John']\n"
     ]
    }
   ],
   "source": [
    "l = [\"abc\", 786, \"John\", 10.2]\n",
    "l1 = [123, \"John\"]\n",
    "print(l)\n",
    "print(l[0])\n",
    "print(l[1:3])\n",
    "print(l[2:])\n",
    "print(l[-1:])\n",
    "print(l[:-1])\n",
    "print(l * 2)\n",
    "print(l + l1)"
   ]
  },
  {
   "cell_type": "markdown",
   "metadata": {},
   "source": [
    "## List Operations\n",
    "\n",
    "lists can make use of several inbuilt functions namely: append(), insert(), pop(), remove(), extend(), search(), len(), sum(), min(), max(), reverse(), count(), clear()"
   ]
  },
  {
   "cell_type": "code",
   "execution_count": 26,
   "metadata": {},
   "outputs": [
    {
     "name": "stdout",
     "output_type": "stream",
     "text": [
      "['abc', 786, 5, 5, 5, 5, 5, 5, 5, 'John', 10.2, 'a', 123, 'John', 'a', 'a', 'a', 'a', 'a', 'a', 'a']\n",
      "['abc', 786, 5, 5, 5, 5, 5, 5, 5, 5, 'John', 10.2, 'a', 123, 'John', 'a', 'a', 'a', 'a', 'a', 'a', 'a']\n",
      "None\n",
      "['abc', 786, 5, 5, 5, 5, 5, 5, 5, 5, 'John', 10.2, 'a', 123, 'John', 'a', 'a', 'a', 'a', 'a', 'a', 'a']\n",
      "None\n",
      "['abc', 786, 5, 5, 5, 5, 5, 5, 5, 5, 'John', 10.2, 'a', 123, 'John', 'a', 'a', 'a', 'a', 'a', 'a', 'a']\n",
      "22\n",
      "0\n",
      "9\n",
      "45\n",
      "[1, 2, 3, 4, 5, 6, 7, 8, 9]\n",
      "[1, 3, 4, 5, 6, 7, 8, 9]\n",
      "[]\n",
      "[4, 7, 5, 1, 6, 8, 9, 3]\n",
      "[9, 8, 7, 6, 5, 4, 3, 1]\n",
      "[9, 8, 7, 6, 5, 4, 3, 1]\n"
     ]
    }
   ],
   "source": [
    "l3 = [i for i  in range(10)]\n",
    "l.append(\"a\")\n",
    "print(l)\n",
    "\n",
    "l.insert(2, 5)\n",
    "print(l)\n",
    "\n",
    "print(l.extend(l1))\n",
    "print(l)\n",
    "\n",
    "print(l1.extend(l))\n",
    "print(l1)\n",
    "\n",
    "print(len(l))\n",
    "print(min(l3))\n",
    "print(max(l3))\n",
    "print(sum(l3))\n",
    "\n",
    "l3.pop(0)\n",
    "print(l3)\n",
    "\n",
    "l3.remove(2)\n",
    "print(l3)\n",
    "\n",
    "l1.clear()\n",
    "print(l1)\n",
    "\n",
    "l3.reverse()\n",
    "import random\n",
    "random.shuffle(l3)\n",
    "print(l3)\n",
    "\n",
    "l3.sort(reverse = True)\n",
    "\n",
    "l4 = l3\n",
    "print(l4)\n",
    "sorted(l4)\n",
    "print(l4)\n"
   ]
  },
  {
   "cell_type": "markdown",
   "metadata": {},
   "source": [
    "# Conditional statements"
   ]
  },
  {
   "cell_type": "markdown",
   "metadata": {},
   "source": [
    "## if, elif, else"
   ]
  },
  {
   "cell_type": "code",
   "execution_count": 27,
   "metadata": {},
   "outputs": [
    {
     "name": "stdout",
     "output_type": "stream",
     "text": [
      "x is odd\n"
     ]
    }
   ],
   "source": [
    "x = 5\n",
    "if x % 2 == 0:\n",
    "    print(\"x is even\")\n",
    "elif x == 0:\n",
    "    print(\"x is 0\")\n",
    "else: \n",
    "    print(\"x is odd\")\n"
   ]
  },
  {
   "cell_type": "markdown",
   "metadata": {},
   "source": [
    "# Loops"
   ]
  },
  {
   "cell_type": "markdown",
   "metadata": {},
   "source": [
    "# for loops\n",
    "We can make use of ```continue``` and ```break``` statements as well in for loops. "
   ]
  },
  {
   "cell_type": "code",
   "execution_count": 30,
   "metadata": {},
   "outputs": [
    {
     "name": "stdout",
     "output_type": "stream",
     "text": [
      "0\n",
      "1\n",
      "2\n",
      "3\n",
      "4\n",
      "6\n",
      "7\n"
     ]
    }
   ],
   "source": [
    "for i in range(10):\n",
    "    if i == 5:\n",
    "        continue\n",
    "    if i == 8:\n",
    "        break\n",
    "    print(i)"
   ]
  },
  {
   "cell_type": "code",
   "execution_count": 39,
   "metadata": {},
   "outputs": [
    {
     "name": "stdout",
     "output_type": "stream",
     "text": [
      "Akshay\n",
      "Sanjay\n",
      "Mahesh\n",
      "Ashik\n",
      "Harshith\n"
     ]
    }
   ],
   "source": [
    "boys = [\"Akshay\", \"Sanjay\", \"Mahesh\", \"Ashik\", \"Harshith\"]\n",
    "for boy in boys:\n",
    "    print(boy)"
   ]
  },
  {
   "cell_type": "markdown",
   "metadata": {},
   "source": [
    "## while loops"
   ]
  },
  {
   "cell_type": "code",
   "execution_count": 38,
   "metadata": {},
   "outputs": [
    {
     "name": "stdout",
     "output_type": "stream",
     "text": [
      "0\n",
      "1\n",
      "2\n",
      "3\n",
      "4\n",
      "6\n",
      "7\n"
     ]
    }
   ],
   "source": [
    "i = 0\n",
    "while i < 10:\n",
    "    if i == 5:\n",
    "        i += 1\n",
    "        continue\n",
    "    if i == 8:\n",
    "        break\n",
    "    print(i)\n",
    "    i += 1"
   ]
  },
  {
   "cell_type": "markdown",
   "metadata": {},
   "source": [
    "# Modules\n",
    "In Python, we have modules from which we can import functions and classes in order to perform certain tasks."
   ]
  },
  {
   "cell_type": "code",
   "execution_count": 2,
   "metadata": {},
   "outputs": [],
   "source": [
    "import random\n",
    "import math\n",
    "import datetime"
   ]
  },
  {
   "cell_type": "code",
   "execution_count": 4,
   "metadata": {},
   "outputs": [],
   "source": [
    "from pandas import DataFrame\n",
    "import numpy as np"
   ]
  },
  {
   "cell_type": "markdown",
   "metadata": {},
   "source": [
    "The above 2 cells are examples how we can make use of the ```import``` and ```from``` keywords."
   ]
  },
  {
   "cell_type": "code",
   "execution_count": null,
   "metadata": {},
   "outputs": [],
   "source": [
    "np"
   ]
  }
 ],
 "metadata": {
  "kernelspec": {
   "display_name": "Python 3",
   "language": "python",
   "name": "python3"
  },
  "language_info": {
   "codemirror_mode": {
    "name": "ipython",
    "version": 3
   },
   "file_extension": ".py",
   "mimetype": "text/x-python",
   "name": "python",
   "nbconvert_exporter": "python",
   "pygments_lexer": "ipython3",
   "version": "3.6.7"
  }
 },
 "nbformat": 4,
 "nbformat_minor": 2
}
